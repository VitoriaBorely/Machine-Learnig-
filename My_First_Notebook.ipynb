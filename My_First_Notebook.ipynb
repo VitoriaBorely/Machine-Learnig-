{
  "nbformat": 4,
  "nbformat_minor": 0,
  "metadata": {
    "colab": {
      "provenance": [],
      "collapsed_sections": [],
      "authorship_tag": "ABX9TyMq1FfW2Etupgq+vwEF6zfi",
      "include_colab_link": true
    },
    "kernelspec": {
      "name": "python3",
      "display_name": "Python 3"
    },
    "language_info": {
      "name": "python"
    }
  },
  "cells": [
    {
      "cell_type": "markdown",
      "metadata": {
        "id": "view-in-github",
        "colab_type": "text"
      },
      "source": [
        "<a href=\"https://colab.research.google.com/github/VitoriaBorely/Machine-Learnig-/blob/main/My_First_Notebook.ipynb\" target=\"_parent\"><img src=\"https://colab.research.google.com/assets/colab-badge.svg\" alt=\"Open In Colab\"/></a>"
      ]
    },
    {
      "cell_type": "markdown",
      "source": [
        "# Sum of friend´s ages\n",
        "\n",
        "This program adds frind´s ages "
      ],
      "metadata": {
        "id": "AKWz8GhQ15b-"
      }
    },
    {
      "cell_type": "code",
      "execution_count": null,
      "metadata": {
        "colab": {
          "base_uri": "https://localhost:8080/"
        },
        "id": "F5D7zZOL00hZ",
        "outputId": "90613a0c-7878-41b1-8dad-b5eaa174e18e"
      },
      "outputs": [
        {
          "output_type": "execute_result",
          "data": {
            "text/plain": [
              "30"
            ]
          },
          "metadata": {},
          "execution_count": 1
        }
      ],
      "source": [
        "age_Pedro = 14\n",
        "age_Rita  = 16\n",
        "\n",
        "age_Pedro +  age_Rita\n",
        " "
      ]
    },
    {
      "cell_type": "code",
      "source": [],
      "metadata": {
        "id": "RzDpF_SO1tgd"
      },
      "execution_count": null,
      "outputs": []
    }
  ]
}